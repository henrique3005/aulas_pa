{
  "nbformat": 4,
  "nbformat_minor": 0,
  "metadata": {
    "colab": {
      "name": "Exercício01.ipynb",
      "provenance": [],
      "collapsed_sections": []
    },
    "kernelspec": {
      "name": "python3",
      "display_name": "Python 3"
    },
    "language_info": {
      "name": "python"
    }
  },
  "cells": [
    {
      "cell_type": "code",
      "execution_count": null,
      "metadata": {
        "colab": {
          "base_uri": "https://localhost:8080/"
        },
        "id": "0h0ABtjOOW70",
        "outputId": "5acad404-8c33-47dc-ed49-ae4b46c0d69d"
      },
      "outputs": [
        {
          "output_type": "stream",
          "name": "stdout",
          "text": [
            "Escreva o valor de um lado do triângulo: 3\n",
            "Escreva o valor do outro lado do triângulo: 4\n",
            "Escreva o valor do último lado do triângulo: 5\n",
            "Esse é um triâgulo escaleno.\n"
          ]
        }
      ],
      "source": [
        "num1 = input(\"Escreva o valor de um lado do triângulo: \")\n",
        "num2 = input(\"Escreva o valor do outro lado do triângulo: \")\n",
        "num3 = input(\"Escreva o valor do último lado do triângulo: \")\n",
        "if num1 == num2 == num3:\n",
        "  print(\"Esse é um triângulo equilátero.\")\n",
        "elif num1 != num2 != num3:\n",
        "  print(\"Esse é um triâgulo escaleno.\")\n",
        "else:\n",
        "  print(\"Esse é um triâgulo isósceles.\")"
      ]
    }
  ]
}