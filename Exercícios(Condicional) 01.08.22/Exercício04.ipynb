{
  "nbformat": 4,
  "nbformat_minor": 0,
  "metadata": {
    "colab": {
      "name": "Exercício04.ipynb",
      "provenance": [],
      "collapsed_sections": []
    },
    "kernelspec": {
      "name": "python3",
      "display_name": "Python 3"
    },
    "language_info": {
      "name": "python"
    }
  },
  "cells": [
    {
      "cell_type": "code",
      "execution_count": 10,
      "metadata": {
        "colab": {
          "base_uri": "https://localhost:8080/"
        },
        "id": "PIdJpb-jeZIJ",
        "outputId": "39c39027-c1b0-4cd7-8f6e-b74e654309b4"
      },
      "outputs": [
        {
          "output_type": "stream",
          "name": "stdout",
          "text": [
            "Digite o seu saldo atual: 12345.6789\n",
            "Digite quanto você deseja sacar: 1234.56789\n",
            "Seu saldo é positivo: R$11111.11101.\n"
          ]
        }
      ],
      "source": [
        "saldo = float(input(\"Digite o seu saldo atual: \"))\n",
        "saque = float(input(\"Digite quanto você deseja sacar: \"))\n",
        "limite = saldo - saque\n",
        "if limite < 0:\n",
        "  print(\"Seu saldo está negativo: R$%s.\" % limite)\n",
        "else:\n",
        "  print(\"Seu saldo é positivo: R$%s.\" % limite)"
      ]
    }
  ]
}