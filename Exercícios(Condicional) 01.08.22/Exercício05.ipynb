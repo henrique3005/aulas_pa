{
  "nbformat": 4,
  "nbformat_minor": 0,
  "metadata": {
    "colab": {
      "name": "Exercício05.ipynb",
      "provenance": [],
      "collapsed_sections": []
    },
    "kernelspec": {
      "name": "python3",
      "display_name": "Python 3"
    },
    "language_info": {
      "name": "python"
    }
  },
  "cells": [
    {
      "cell_type": "code",
      "execution_count": 1,
      "metadata": {
        "colab": {
          "base_uri": "https://localhost:8080/"
        },
        "id": "JcUEeNrQhICi",
        "outputId": "ce2cfffd-d7a3-4e8d-8c68-d0516056cd55"
      },
      "outputs": [
        {
          "output_type": "stream",
          "name": "stdout",
          "text": [
            "Digite a sua altura: 1.78\n",
            "Digite a sua idade: 15\n",
            "Infelizmente você pode participar do campeonato.\n"
          ]
        }
      ],
      "source": [
        "altura = float(input(\"Digite a sua altura: \"))\n",
        "idade = int(input(\"Digite a sua idade: \"))\n",
        "if idade >= 18 and altura >= 1.75:\n",
        "  print(\"Parabéns, você pode participar do campeonato!\")\n",
        "else:\n",
        "  print(\"Infelizmente você pode participar do campeonato.\")"
      ]
    }
  ]
}