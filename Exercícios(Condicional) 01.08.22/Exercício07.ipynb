{
  "nbformat": 4,
  "nbformat_minor": 0,
  "metadata": {
    "colab": {
      "name": "Exercício07.ipynb",
      "provenance": [],
      "collapsed_sections": []
    },
    "kernelspec": {
      "name": "python3",
      "display_name": "Python 3"
    },
    "language_info": {
      "name": "python"
    }
  },
  "cells": [
    {
      "cell_type": "code",
      "execution_count": 10,
      "metadata": {
        "id": "I0YVBIcjo3k9",
        "colab": {
          "base_uri": "https://localhost:8080/"
        },
        "outputId": "87e95277-c0dc-4865-9147-060353a8d4b7"
      },
      "outputs": [
        {
          "output_type": "stream",
          "name": "stdout",
          "text": [
            "Digite o valor do seu salário: 0\n",
            "Parabéns, você não precisa pagar imposto.\n"
          ]
        }
      ],
      "source": [
        "salario = float(input(\"Digite o valor do seu salário: \"))\n",
        "if salario <= 1903.98:\n",
        "  print(\"Parabéns, você não precisa pagar imposto.\")\n",
        "elif salario > 1903.99 and salario <= 2826.65:\n",
        "  imposto = salario * 1.075\n",
        "  print(\"Com  7,5 por cento, você tem que pagar R$%.2f.\" % imposto)\n",
        "elif salario > 2826.66 and salario <= 3751.05:\n",
        "  imposto = salario * 1.15\n",
        "  print(\"Com  15 por cento, você tem que pagar R$%.2f.\" % imposto)\n",
        "elif salario > 3751.06 and salario <= 4664.68:\n",
        "  imposto = salario * 1.225\n",
        "  print(\"Com  22,5 por cento, você tem que pagar R$%.2f.\" % imposto)\n",
        "else:\n",
        "  imposto = salario * 1.275\n",
        "  print(\"Com 27,5 por cento, você tem que pagar R$%.2f.\" % imposto)"
      ]
    }
  ]
}