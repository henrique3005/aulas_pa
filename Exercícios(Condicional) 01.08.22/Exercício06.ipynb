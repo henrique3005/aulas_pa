{
  "nbformat": 4,
  "nbformat_minor": 0,
  "metadata": {
    "colab": {
      "name": "Exercício06.ipynb",
      "provenance": [],
      "collapsed_sections": []
    },
    "kernelspec": {
      "name": "python3",
      "display_name": "Python 3"
    },
    "language_info": {
      "name": "python"
    }
  },
  "cells": [
    {
      "cell_type": "code",
      "execution_count": 3,
      "metadata": {
        "colab": {
          "base_uri": "https://localhost:8080/"
        },
        "id": "Kbsz-TZ1jF9_",
        "outputId": "68c9f3ae-6119-4b0c-aef9-0a6c3158c48b"
      },
      "outputs": [
        {
          "output_type": "stream",
          "name": "stdout",
          "text": [
            "Digite o seu peso: 63.55\n",
            "Você está na categoria Super Leve.\n"
          ]
        }
      ],
      "source": [
        "peso = float(input(\"Digite o seu peso: \"))\n",
        "if peso >= 46.27 and peso < 47.63:\n",
        "  print(\"Você está na categoria Palha Ligeiro.\")\n",
        "elif peso >= 47.63 and peso < 48.99:\n",
        "  print(\"Você está na categoria Palha.\")\n",
        "elif peso >= 48.99 and peso < 50.35:\n",
        "  print(\"Você está na categoria Mosca Ligeiro.\")\n",
        "elif peso >= 50.35 and peso < 51.71:\n",
        "  print(\"Você está na categoria Mosca.\")\n",
        "elif peso >= 51.71 and peso < 53.52:\n",
        "  print(\"Você está na categoria Super Mosca.\")\n",
        "elif peso >= 53.52 and peso < 55.34:\n",
        "  print(\"Você está na categoria Galo.\")\n",
        "elif peso >= 55.34 and peso < 57.15:\n",
        "  print(\"Você está na categoria Super Galo.\")\n",
        "elif peso >= 57.15 and peso < 58.97:\n",
        "  print(\"Você está na categoria Pena.\")\n",
        "elif peso >= 58.97 and peso < 61.23:\n",
        "  print(\"Você está na categoria Super Pena.\")\n",
        "elif peso >= 61.23 and peso < 63.5:\n",
        "  print(\"Você está na categoria Leve.\")\n",
        "elif peso >= 63.5 and peso < 66.68:\n",
        "  print(\"Você está na categoria Super Leve.\")\n",
        "elif peso >= 66.68 and peso < 69.85:\n",
        "  print(\"Você está na categoria Meio-Médio.\")\n",
        "elif peso >= 69.85 and peso < 73.03:\n",
        "  print(\"Você está na categoria Super Meio-Médio.\")\n",
        "elif peso >= 73.03 and peso < 76.2:\n",
        "  print(\"Você está na categoria Médio.\")\n",
        "elif peso >= 76.2 and peso < 79.38:\n",
        "  print(\"Você está na categoria Super Médio.\")\n",
        "elif peso >= 79.38 and peso < 90.72:\n",
        "  print(\"Você está na categoria Meio-Pesado.\")\n",
        "elif peso >= 90.72 and peso < 200:\n",
        "  print(\"Você está na categoria Cruzador.\")\n",
        "else:\n",
        "  print(\"Você é humano?\")"
      ]
    }
  ]
}