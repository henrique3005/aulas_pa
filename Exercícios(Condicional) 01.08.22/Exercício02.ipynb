{
  "nbformat": 4,
  "nbformat_minor": 0,
  "metadata": {
    "colab": {
      "name": "Exercício02.ipynb",
      "provenance": [],
      "collapsed_sections": []
    },
    "kernelspec": {
      "name": "python3",
      "display_name": "Python 3"
    },
    "language_info": {
      "name": "python"
    }
  },
  "cells": [
    {
      "cell_type": "code",
      "execution_count": null,
      "metadata": {
        "colab": {
          "base_uri": "https://localhost:8080/"
        },
        "id": "n7H-N7VRQJda",
        "outputId": "aeb18c8a-bcd6-4133-f164-61c2be5eb164"
      },
      "outputs": [
        {
          "output_type": "stream",
          "name": "stdout",
          "text": [
            "Digite um número: 3\n",
            "É ímpar\n"
          ]
        }
      ],
      "source": [
        "num1 = int(input(\"Digite um número: \"))\n",
        "if num1 % 2 == 0:\n",
        "  print(\"É par\")\n",
        "else:\n",
        "  print(\"É ímpar\")"
      ]
    }
  ]
}