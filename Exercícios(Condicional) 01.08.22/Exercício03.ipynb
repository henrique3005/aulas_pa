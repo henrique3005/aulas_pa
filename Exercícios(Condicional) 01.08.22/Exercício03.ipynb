{
  "nbformat": 4,
  "nbformat_minor": 0,
  "metadata": {
    "colab": {
      "name": "Exercício03.ipynb",
      "provenance": [],
      "collapsed_sections": []
    },
    "kernelspec": {
      "name": "python3",
      "display_name": "Python 3"
    },
    "language_info": {
      "name": "python"
    }
  },
  "cells": [
    {
      "cell_type": "code",
      "execution_count": 12,
      "metadata": {
        "colab": {
          "base_uri": "https://localhost:8080/"
        },
        "id": "7EzvEg6MTXpe",
        "outputId": "72f18134-2932-47d0-cc57-4610695e45ac"
      },
      "outputs": [
        {
          "output_type": "stream",
          "name": "stdout",
          "text": [
            "Digite o seu peso: 63.55\n",
            "Digite a sua altura: 1.75\n",
            "Você está com o peso normal.\n"
          ]
        }
      ],
      "source": [
        "peso = float(input(\"Digite o seu peso: \"))\n",
        "altura = float(input(\"Digite a sua altura: \"))\n",
        "imc = peso / (altura * altura)\n",
        "if imc < 18.5:\n",
        "  print(\"Você está abaixo do peso.\")\n",
        "elif imc >= 18.5 and imc <= 24.9:\n",
        "  print(\"Você está com o peso normal.\")\n",
        "elif imc > 25 and imc <= 29.9:\n",
        "  print(\"Você está com sobrepeso.\")\n",
        "elif imc > 30 and imc <= 34.9:\n",
        "  print(\"Você está com obesidade grau 1.\")\n",
        "elif imc > 35 and imc <= 39.9:\n",
        "  print(\"Você está com obesidade grau 2.\")\n",
        "else:\n",
        "  print(\"Você está com obesidade grau 3.\")"
      ]
    }
  ]
}