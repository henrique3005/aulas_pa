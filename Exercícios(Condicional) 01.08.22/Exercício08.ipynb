{
  "nbformat": 4,
  "nbformat_minor": 0,
  "metadata": {
    "colab": {
      "name": "Exercício08.ipynb",
      "provenance": [],
      "collapsed_sections": []
    },
    "kernelspec": {
      "name": "python3",
      "display_name": "Python 3"
    },
    "language_info": {
      "name": "python"
    }
  },
  "cells": [
    {
      "cell_type": "code",
      "execution_count": 4,
      "metadata": {
        "colab": {
          "base_uri": "https://localhost:8080/"
        },
        "id": "aSYeL9ujvJWe",
        "outputId": "a42eaea8-d54e-4786-db6c-0643b676e854"
      },
      "outputs": [
        {
          "output_type": "stream",
          "name": "stdout",
          "text": [
            "Digite o valor do seu salário: 1234.56\n",
            "Seu salário foi aumentado 20 por cento, agora você terá R$1481.47 de salário.\n"
          ]
        }
      ],
      "source": [
        "salario = float(input(\"Digite o valor do seu salário: \"))\n",
        "if salario <= 1500:\n",
        "  salariofinal = salario * 1.2\n",
        "  print(\"Seu salário foi aumentado 20 por cento, agora você terá R$%.2f de salário.\" % salariofinal)\n",
        "elif salario > 1500 and salario <= 3000:\n",
        "  salariofinal = salario * 1.15\n",
        "  print(\"Seu salário foi aumentado 15 por cento, agora você terá R$%.2f de salário\" % salariofinal)\n",
        "else:\n",
        "  salariofinal = salario * 1.1\n",
        "  print(\"Seu salário foi aumentado 10 por cento, agora você terá R$%.2f de salário\" % salariofinal)"
      ]
    }
  ]
}